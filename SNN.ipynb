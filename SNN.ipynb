{
 "cells": [
  {
   "cell_type": "markdown",
   "metadata": {},
   "source": [
    "# The Libraries that I used and the MNIST dataset"
   ]
  },
  {
   "cell_type": "code",
   "execution_count": 3,
   "metadata": {},
   "outputs": [
    {
     "name": "stdout",
     "output_type": "stream",
     "text": [
      "Successfully downloaded train-images-idx3-ubyte.gz 9912422 bytes.\n",
      "Extracting /tmp/data/train-images-idx3-ubyte.gz\n",
      "Successfully downloaded train-labels-idx1-ubyte.gz 28881 bytes.\n",
      "Extracting /tmp/data/train-labels-idx1-ubyte.gz\n",
      "Successfully downloaded t10k-images-idx3-ubyte.gz 1648877 bytes.\n",
      "Extracting /tmp/data/t10k-images-idx3-ubyte.gz\n",
      "Successfully downloaded t10k-labels-idx1-ubyte.gz 4542 bytes.\n",
      "Extracting /tmp/data/t10k-labels-idx1-ubyte.gz\n"
     ]
    }
   ],
   "source": [
    "import tensorflow as tf\n",
    "import numpy as np\n",
    "from sklearn.preprocessing import StandardScaler\n",
    "\n",
    "from __future__ import absolute_import, division, print_function\n",
    "import numbers\n",
    "from tensorflow.contrib import layers\n",
    "from tensorflow.python.framework import ops\n",
    "from tensorflow.python.framework import tensor_shape\n",
    "from tensorflow.python.framework import tensor_util\n",
    "from tensorflow.python.ops import math_ops\n",
    "from tensorflow.python.ops import random_ops\n",
    "from tensorflow.python.ops import array_ops\n",
    "from tensorflow.python.layers import utils\n",
    "\n",
    "\n",
    "# Import MNIST data\n",
    "from tensorflow.examples.tutorials.mnist import input_data\n",
    "mnist = input_data.read_data_sets(\"/tmp/data/\", one_hot=True)"
   ]
  },
  {
   "cell_type": "markdown",
   "metadata": {},
   "source": [
    "# Parameters"
   ]
  },
  {
   "cell_type": "code",
   "execution_count": 4,
   "metadata": {},
   "outputs": [],
   "source": [
    "learning_rate = 0.05 # learning rate for Gradient Descent Optimizer\n",
    "training_epochs = 20 #  forward pass and backward pass of all the training examples \n",
    "batch_size = 100 # the number of training examples in forward/backward pass.\n",
    "display_step = 1 # displays the epochs one by one \n",
    "drop_out=0.5 # drop out rate for RELU,Sigmoid \n",
    "n_classes = 10 # MNIST total classes (0-9 digits)\n",
    "\n",
    "# tf Graph input\n",
    "x = tf.placeholder(\"float\", [None, 784])\n",
    "y = tf.placeholder(\"float\", [None, n_classes])\n",
    "dropoutRate = tf.placeholder(tf.float32)\n",
    "is_training= tf.placeholder(tf.bool)"
   ]
  },
  {
   "cell_type": "markdown",
   "metadata": {},
   "source": [
    "# Selu activation function"
   ]
  },
  {
   "cell_type": "code",
   "execution_count": 5,
   "metadata": {},
   "outputs": [],
   "source": [
    "def selu(x):\n",
    "    with ops.name_scope('elu') as scope:\n",
    "        alpha = 1.6732632423543772848170429916717\n",
    "        scale = 1.0507009873554804934193349852946\n",
    "        return scale*tf.where(x>=0.0, x, alpha*tf.nn.elu(x))\n"
   ]
  },
  {
   "cell_type": "markdown",
   "metadata": {},
   "source": [
    "# Drop out for the Selu activation function"
   ]
  },
  {
   "cell_type": "code",
   "execution_count": 6,
   "metadata": {},
   "outputs": [],
   "source": [
    "def dropout_selu(x, rate, alpha= -1.7580993408473766, fixedPointMean=0.0, fixedPointVar=1.0, \n",
    "                 noise_shape=None, seed=None, name=None, training=False):\n",
    "    \"\"\"Dropout to a value with rescaling.\"\"\"\n",
    "\n",
    "    def dropout_selu_impl(x, rate, alpha, noise_shape, seed, name):\n",
    "        keep_prob = 1.0 - rate\n",
    "        x = ops.convert_to_tensor(x, name=\"x\")\n",
    "        if isinstance(keep_prob, numbers.Real) and not 0 < keep_prob <= 1:\n",
    "            raise ValueError(\"keep_prob must be a scalar tensor or a float in the \"\n",
    "                                             \"range (0, 1], got %g\" % keep_prob)\n",
    "        keep_prob = ops.convert_to_tensor(keep_prob, dtype=x.dtype, name=\"keep_prob\")\n",
    "        keep_prob.get_shape().assert_is_compatible_with(tensor_shape.scalar())\n",
    "\n",
    "        alpha = ops.convert_to_tensor(alpha, dtype=x.dtype, name=\"alpha\")\n",
    "        keep_prob.get_shape().assert_is_compatible_with(tensor_shape.scalar())\n",
    "\n",
    "        if tensor_util.constant_value(keep_prob) == 1:\n",
    "            return x\n",
    "\n",
    "        noise_shape = noise_shape if noise_shape is not None else array_ops.shape(x)\n",
    "        random_tensor = keep_prob\n",
    "        random_tensor += random_ops.random_uniform(noise_shape, seed=seed, dtype=x.dtype)\n",
    "        binary_tensor = math_ops.floor(random_tensor)\n",
    "        ret = x * binary_tensor + alpha * (1-binary_tensor)\n",
    "\n",
    "        a = tf.sqrt(fixedPointVar / (keep_prob *((1-keep_prob) * tf.pow(alpha-fixedPointMean,2) + fixedPointVar)))\n",
    "\n",
    "        b = fixedPointMean - a * (keep_prob * fixedPointMean + (1 - keep_prob) * alpha)\n",
    "        ret = a * ret + b\n",
    "        ret.set_shape(x.get_shape())\n",
    "        return ret\n",
    "\n",
    "    with ops.name_scope(name, \"dropout\", [x]) as name:\n",
    "        return utils.smart_cond(training,\n",
    "            lambda: dropout_selu_impl(x, rate, alpha, noise_shape, seed, name),\n",
    "            lambda: array_ops.identity(x))"
   ]
  },
  {
   "cell_type": "markdown",
   "metadata": {},
   "source": [
    "# Scale input to zero mean and unit variance"
   ]
  },
  {
   "cell_type": "code",
   "execution_count": 7,
   "metadata": {},
   "outputs": [],
   "source": [
    "scaler = StandardScaler().fit(mnist.train.images)"
   ]
  },
  {
   "cell_type": "markdown",
   "metadata": {},
   "source": [
    "# Tensorboard to read the summarized data"
   ]
  },
  {
   "cell_type": "code",
   "execution_count": 8,
   "metadata": {},
   "outputs": [],
   "source": [
    "logs_path = '~/tmp'"
   ]
  },
  {
   "cell_type": "markdown",
   "metadata": {},
   "source": [
    "# Neuarl network model for Relu/Sigmoid activation functionwith or without drop out"
   ]
  },
  {
   "cell_type": "code",
   "execution_count": 29,
   "metadata": {
    "collapsed": true
   },
   "outputs": [],
   "source": [
    "def nn_model(x, layers, layer_nodes, n_classes,rate, is_training):\n",
    "    layers_list = []\n",
    "    input_layer = {'weights':tf.Variable(tf.random_normal([784, layer_nodes],stddev=np.sqrt(1/784))),\n",
    "                      'biases':tf.Variable(tf.random_normal([layer_nodes],stddev=0))}\n",
    "\n",
    "    output_layer = {'weights':tf.Variable(tf.random_normal([layer_nodes, n_classes],stddev=np.sqrt(1/layer_nodes))),\n",
    "                    'biases':tf.Variable(tf.random_normal([n_classes],stddev=0))}\n",
    "    if layers-1 > 0:\n",
    "        l = tf.add(tf.matmul(x,input_layer['weights']), input_layer['biases'])\n",
    "        l = tf.nn.sigmoid(l)\n",
    "        l = tf.nn.dropout(l,drop_out)\n",
    "        #l = dropout_selu(l,rate, training=is_training)\n",
    "        \n",
    "        for i in range(layers-1):\n",
    "            \n",
    "            hidden_layer = {'weights':tf.Variable(tf.random_normal([layer_nodes, layer_nodes],stddev=np.sqrt(1/layer_nodes))),\n",
    "                  'biases':tf.Variable(tf.random_normal([layer_nodes],stddev=0))}\n",
    "            \n",
    "            l = tf.add(tf.matmul(l,hidden_layer['weights']), hidden_layer['biases'])\n",
    "            l = tf.nn.sigmoid(l)\n",
    "            l = tf.nn.dropout(l,drop_out)\n",
    "            #l = dropout_selu(l,rate, training=is_training)\n",
    "        \n",
    "        l = tf.matmul(l,output_layer['weights']) + output_layer['biases']\n",
    "        return l\n",
    "    return None"
   ]
  },
  {
   "cell_type": "markdown",
   "metadata": {},
   "source": [
    "# Neuarl network model for Selu activation function with or without drop out"
   ]
  },
  {
   "cell_type": "code",
   "execution_count": 9,
   "metadata": {},
   "outputs": [],
   "source": [
    "def nn_model(x, layers, layer_nodes, n_classes,rate, is_training):\n",
    "    layers_list = []\n",
    "    input_layer = {'weights':tf.Variable(tf.random_normal([784, layer_nodes],stddev=np.sqrt(1/784))),\n",
    "                      'biases':tf.Variable(tf.random_normal([layer_nodes],stddev=0))}\n",
    "\n",
    "    output_layer = {'weights':tf.Variable(tf.random_normal([layer_nodes, n_classes],stddev=np.sqrt(1/layer_nodes))),\n",
    "                    'biases':tf.Variable(tf.random_normal([n_classes],stddev=0))}\n",
    "    if layers-1 > 0:\n",
    "        l = tf.add(tf.matmul(x,input_layer['weights']), input_layer['biases'])\n",
    "        l = selu(l)\n",
    "        #l = dropout_selu(l,rate, training=is_training)\n",
    "        \n",
    "        for i in range(layers-1):\n",
    "            \n",
    "            hidden_layer = {'weights':tf.Variable(tf.random_normal([layer_nodes, layer_nodes],stddev=np.sqrt(1/layer_nodes))),\n",
    "                  'biases':tf.Variable(tf.random_normal([layer_nodes],stddev=0))}\n",
    "            \n",
    "            l = tf.add(tf.matmul(l,hidden_layer['weights']), hidden_layer['biases'])\n",
    "            l = selu(l)\n",
    "            #l = dropout_selu(l,rate, training=is_training)\n",
    "        \n",
    "        l = tf.matmul(l,output_layer['weights']) + output_layer['biases']\n",
    "        return l\n",
    "    return None"
   ]
  },
  {
   "cell_type": "markdown",
   "metadata": {},
   "source": [
    "# Construct, define loss and optimizer, test, calculate accuracy, iniyializing the variables of the model "
   ]
  },
  {
   "cell_type": "code",
   "execution_count": 10,
   "metadata": {},
   "outputs": [],
   "source": [
    "# Construct model\n",
    "pred = nn_model(x, 17, 784, n_classes,rate=dropoutRate, is_training= is_training)\n",
    "\n",
    "# Define loss and optimizer\n",
    "cost = tf.reduce_mean(tf.nn.softmax_cross_entropy_with_logits(logits=pred, labels=y))\n",
    "optimizer = tf.train.GradientDescentOptimizer(learning_rate=learning_rate).minimize(cost)\n",
    "\n",
    " # Test model\n",
    "correct_prediction = tf.equal(tf.argmax(pred, 1), tf.argmax(y, 1))\n",
    "# Calculate accuracy\n",
    "accuracy = tf.reduce_mean(tf.cast(correct_prediction, \"float\"))\n",
    "         \n",
    "# Initializing the variables\n",
    "init = tf.global_variables_initializer()"
   ]
  },
  {
   "cell_type": "markdown",
   "metadata": {},
   "source": [
    "# summary for loss  and accuracy then merge them"
   ]
  },
  {
   "cell_type": "code",
   "execution_count": 11,
   "metadata": {},
   "outputs": [],
   "source": [
    "# Create a summary to monitor cost tensor\n",
    "tf.summary.scalar(\"loss\", cost)\n",
    "# Create a summary to monitor accuracy tensor\n",
    "tf.summary.scalar(\"accuracy\", accuracy)\n",
    "# Merge all summaries into a single op\n",
    "merged_summary_op = tf.summary.merge_all()"
   ]
  },
  {
   "cell_type": "markdown",
   "metadata": {},
   "source": [
    "#  The graph that shows number of epoch, cost,training accuracy and loss, Validation accuracy and loss"
   ]
  },
  {
   "cell_type": "code",
   "execution_count": 12,
   "metadata": {
    "scrolled": false
   },
   "outputs": [
    {
     "name": "stdout",
     "output_type": "stream",
     "text": [
      "Epoch: 0001 cost= nan\n",
      "Train-Accuracy: 0.09 Train-Loss: nan\n",
      "Validation-Accuracy: 0.0917969 Val-Loss: nan \n",
      "\n",
      "Epoch: 0002 cost= nan\n",
      "Train-Accuracy: 0.14 Train-Loss: nan\n",
      "Validation-Accuracy: 0.0859375 Val-Loss: nan \n",
      "\n",
      "Epoch: 0003 cost= nan\n",
      "Train-Accuracy: 0.06 Train-Loss: nan\n",
      "Validation-Accuracy: 0.0898438 Val-Loss: nan \n",
      "\n",
      "Epoch: 0004 cost= nan\n",
      "Train-Accuracy: 0.17 Train-Loss: nan\n",
      "Validation-Accuracy: 0.111328 Val-Loss: nan \n",
      "\n",
      "Epoch: 0005 cost= nan\n",
      "Train-Accuracy: 0.06 Train-Loss: nan\n",
      "Validation-Accuracy: 0.09375 Val-Loss: nan \n",
      "\n",
      "Epoch: 0006 cost= nan\n",
      "Train-Accuracy: 0.12 Train-Loss: nan\n",
      "Validation-Accuracy: 0.09375 Val-Loss: nan \n",
      "\n",
      "Epoch: 0007 cost= nan\n",
      "Train-Accuracy: 0.06 Train-Loss: nan\n",
      "Validation-Accuracy: 0.119141 Val-Loss: nan \n",
      "\n",
      "Epoch: 0008 cost= nan\n",
      "Train-Accuracy: 0.2 Train-Loss: nan\n",
      "Validation-Accuracy: 0.0761719 Val-Loss: nan \n",
      "\n",
      "Epoch: 0009 cost= nan\n",
      "Train-Accuracy: 0.08 Train-Loss: nan\n",
      "Validation-Accuracy: 0.0761719 Val-Loss: nan \n",
      "\n",
      "Epoch: 0010 cost= nan\n",
      "Train-Accuracy: 0.15 Train-Loss: nan\n",
      "Validation-Accuracy: 0.0976562 Val-Loss: nan \n",
      "\n",
      "Epoch: 0011 cost= nan\n",
      "Train-Accuracy: 0.13 Train-Loss: nan\n",
      "Validation-Accuracy: 0.0878906 Val-Loss: nan \n",
      "\n",
      "Epoch: 0012 cost= nan\n",
      "Train-Accuracy: 0.09 Train-Loss: nan\n",
      "Validation-Accuracy: 0.0761719 Val-Loss: nan \n",
      "\n",
      "Epoch: 0013 cost= nan\n",
      "Train-Accuracy: 0.06 Train-Loss: nan\n",
      "Validation-Accuracy: 0.111328 Val-Loss: nan \n",
      "\n",
      "Epoch: 0014 cost= nan\n",
      "Train-Accuracy: 0.1 Train-Loss: nan\n",
      "Validation-Accuracy: 0.0878906 Val-Loss: nan \n",
      "\n",
      "Epoch: 0015 cost= nan\n",
      "Train-Accuracy: 0.08 Train-Loss: nan\n",
      "Validation-Accuracy: 0.0878906 Val-Loss: nan \n",
      "\n",
      "Epoch: 0016 cost= nan\n",
      "Train-Accuracy: 0.13 Train-Loss: nan\n",
      "Validation-Accuracy: 0.142578 Val-Loss: nan \n",
      "\n",
      "Epoch: 0017 cost= nan\n",
      "Train-Accuracy: 0.1 Train-Loss: nan\n",
      "Validation-Accuracy: 0.107422 Val-Loss: nan \n",
      "\n",
      "Epoch: 0018 cost= nan\n",
      "Train-Accuracy: 0.09 Train-Loss: nan\n",
      "Validation-Accuracy: 0.101562 Val-Loss: nan \n",
      "\n",
      "Epoch: 0019 cost= nan\n",
      "Train-Accuracy: 0.09 Train-Loss: nan\n",
      "Validation-Accuracy: 0.125 Val-Loss: nan \n",
      "\n",
      "Epoch: 0020 cost= nan\n",
      "Train-Accuracy: 0.06 Train-Loss: nan\n",
      "Validation-Accuracy: 0.0996094 Val-Loss: nan \n",
      "\n"
     ]
    }
   ],
   "source": [
    "# Launch the graph\n",
    "gpu_options = tf.GPUOptions(allow_growth=True)\n",
    "with tf.Session(config=tf.ConfigProto(gpu_options=gpu_options)) as sess:\n",
    "    sess.run(init)\n",
    "\n",
    "    summary_writer = tf.summary.FileWriter(logs_path, graph=tf.get_default_graph())\n",
    "\n",
    "    # Training cycle\n",
    "    for epoch in range(training_epochs):\n",
    "        avg_cost = 0.\n",
    "        total_batch = int(mnist.train.num_examples/batch_size)\n",
    "        # Loop over all batches\n",
    "        for i in range(total_batch):\n",
    "            batch_x, batch_y = mnist.train.next_batch(batch_size)\n",
    "            batch_x = scaler.transform(batch_x)\n",
    "            # Run optimization op (backprop) and cost op (to get loss value)\n",
    "            _, c = sess.run([optimizer, cost], feed_dict={x: batch_x,\n",
    "                                                          y: batch_y, dropoutRate: 0.05, is_training:True})\n",
    "\n",
    "            # Compute average loss\n",
    "            avg_cost += c / total_batch\n",
    "        # Display logs per epoch step\n",
    "        if epoch % display_step == 0:\n",
    "            print (\"Epoch:\", '%04d' % (epoch+1), \"cost=\",\"{:.9f}\".format(avg_cost))\n",
    "            \n",
    "            accTrain, costTrain, summary = sess.run([accuracy, cost, merged_summary_op], \n",
    "                                                        feed_dict={x: batch_x, y: batch_y, \n",
    "                                                                   dropoutRate: 0.0, is_training:False})\n",
    "            summary_writer.add_summary(summary, epoch)\n",
    "            \n",
    "            print(\"Train-Accuracy:\", accTrain,\"Train-Loss:\", costTrain)\n",
    "\n",
    "            batch_x_test, batch_y_test = mnist.test.next_batch(512)\n",
    "            batch_x_test = scaler.transform(batch_x_test)\n",
    "\n",
    "            accTest, costVal = sess.run([accuracy, cost], feed_dict={x: batch_x_test, y: batch_y_test, \n",
    "                                                                   dropoutRate: 0.0, is_training:False})\n",
    "\n",
    "            print(\"Validation-Accuracy:\", accTest,\"Val-Loss:\", costVal,\"\\n\")"
   ]
  },
  {
   "cell_type": "code",
   "execution_count": null,
   "metadata": {
    "collapsed": true
   },
   "outputs": [],
   "source": []
  }
 ],
 "metadata": {
  "kernelspec": {
   "display_name": "Python 3",
   "language": "python",
   "name": "python3"
  },
  "language_info": {
   "codemirror_mode": {
    "name": "ipython",
    "version": 3
   },
   "file_extension": ".py",
   "mimetype": "text/x-python",
   "name": "python",
   "nbconvert_exporter": "python",
   "pygments_lexer": "ipython3",
   "version": "3.6.3"
  }
 },
 "nbformat": 4,
 "nbformat_minor": 2
}
